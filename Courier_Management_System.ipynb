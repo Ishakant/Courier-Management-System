{
 "cells": [
  {
   "cell_type": "markdown",
   "id": "4d97d66d",
   "metadata": {},
   "source": [
    "# Q1. Create a Dictionary of lists to store the information of shipments given in the table"
   ]
  },
  {
   "cell_type": "code",
   "execution_count": 17,
   "id": "de937aae",
   "metadata": {},
   "outputs": [
    {
     "name": "stdout",
     "output_type": "stream",
     "text": [
      "{101: [1,\n",
      "       3,\n",
      "       datetime.datetime(2020, 3, 14, 0, 0),\n",
      "       datetime.datetime(2020, 3, 25, 0, 0),\n",
      "       'Area1',\n",
      "       'Area6',\n",
      "       'Delivered',\n",
      "       198],\n",
      " 102: [4,\n",
      "       1,\n",
      "       datetime.datetime(2020, 6, 18, 0, 0),\n",
      "       datetime.datetime(2020, 7, 9, 0, 0),\n",
      "       'Area2',\n",
      "       'Area4',\n",
      "       'Delivered',\n",
      "       275],\n",
      " 103: [2,\n",
      "       3,\n",
      "       datetime.datetime(2020, 1, 12, 0, 0),\n",
      "       None,\n",
      "       'Area5',\n",
      "       'Area1',\n",
      "       'In-Transit',\n",
      "       200],\n",
      " 104: [1,\n",
      "       5,\n",
      "       datetime.datetime(2020, 6, 23, 0, 0),\n",
      "       datetime.datetime(2020, 6, 25, 0, 0),\n",
      "       'Area1',\n",
      "       'Area4',\n",
      "       'Delivered',\n",
      "       314],\n",
      " 105: [3,\n",
      "       4,\n",
      "       datetime.datetime(2020, 8, 29, 0, 0),\n",
      "       datetime.datetime(2020, 9, 10, 0, 0),\n",
      "       'Area5',\n",
      "       'Area3',\n",
      "       'Delivered',\n",
      "       275],\n",
      " 106: [5,\n",
      "       2,\n",
      "       datetime.datetime(2020, 6, 28, 0, 0),\n",
      "       None,\n",
      "       'Area3',\n",
      "       'Area1',\n",
      "       'In-Transit',\n",
      "       270]}\n"
     ]
    }
   ],
   "source": [
    "import pprint \n",
    "import datetime\n",
    "CMS = {101:[1,3,datetime.datetime(2020,3,14),datetime.datetime(2020,3,25),'Area1','Area6','Delivered',198], \n",
    "       102:[4,1, datetime.datetime(2020,6,18),datetime.datetime(2020,7,9),'Area2','Area4','Delivered',275] ,\n",
    "       103:[2,3,datetime.datetime(2020,1,12),None,'Area5','Area1','In-Transit',200] ,\n",
    "       104:[1,5,datetime.datetime(2020,6,23),datetime.datetime(2020,6,25),'Area1','Area4','Delivered',314] ,\n",
    "       105:[3,4,datetime.datetime(2020,8,29),datetime.datetime(2020,9,10),'Area5','Area3','Delivered',275] , \n",
    "       106:[5,2,datetime.datetime(2020,6,28),None,'Area3','Area1','In-Transit',270]}\n",
    "#datetime is used to store date\n",
    "pprint.pprint(CMS)"
   ]
  },
  {
   "cell_type": "markdown",
   "id": "8b0cac1f",
   "metadata": {},
   "source": [
    "# Q2. Create a Dictionary of to store the information of clients given in the table."
   ]
  },
  {
   "cell_type": "code",
   "execution_count": 18,
   "id": "a42bf4d4",
   "metadata": {},
   "outputs": [
    {
     "data": {
      "text/plain": [
       "{1: 'Phillip', 2: 'Omega III', 3: 'Ramya', 4: 'Romesh', 5: 'John'}"
      ]
     },
     "execution_count": 18,
     "metadata": {},
     "output_type": "execute_result"
    }
   ],
   "source": [
    "Client_data={1:'Phillip',2:'Omega III',3:'Ramya',4:'Romesh',5:'John'} #Dictionary is created\n",
    "Client_data"
   ]
  },
  {
   "cell_type": "markdown",
   "id": "80ac1c43",
   "metadata": {},
   "source": [
    "# Q3. Write a code to replace client’s id with their respective name in shipment dictionary using a loop and dictionary comprehension"
   ]
  },
  {
   "cell_type": "code",
   "execution_count": 19,
   "id": "fa36d5ae",
   "metadata": {},
   "outputs": [
    {
     "name": "stdout",
     "output_type": "stream",
     "text": [
      "{101: ['Phillip', 'Ramya', datetime.datetime(2020, 3, 14, 0, 0), datetime.datetime(2020, 3, 25, 0, 0), 'Area1', 'Area6', 'Delivered', 198], 102: ['Romesh', 'Phillip', datetime.datetime(2020, 6, 18, 0, 0), datetime.datetime(2020, 7, 9, 0, 0), 'Area2', 'Area4', 'Delivered', 275], 103: ['Omega III', 'Ramya', datetime.datetime(2020, 1, 12, 0, 0), None, 'Area5', 'Area1', 'In-Transit', 200], 104: ['Phillip', 'John', datetime.datetime(2020, 6, 23, 0, 0), datetime.datetime(2020, 6, 25, 0, 0), 'Area1', 'Area4', 'Delivered', 314], 105: ['Ramya', 'Romesh', datetime.datetime(2020, 8, 29, 0, 0), datetime.datetime(2020, 9, 10, 0, 0), 'Area5', 'Area3', 'Delivered', 275], 106: ['John', 'Omega III', datetime.datetime(2020, 6, 28, 0, 0), None, 'Area3', 'Area1', 'In-Transit', 270]}\n"
     ]
    }
   ],
   "source": [
    "Z={k: [Client_data.get(v,v) for v in v] for k, v in CMS.items()}\n",
    "print(Z)"
   ]
  },
  {
   "cell_type": "markdown",
   "id": "e076dd41",
   "metadata": {},
   "source": [
    "# Q4. Print all shipment details that are sent by Phillip"
   ]
  },
  {
   "cell_type": "code",
   "execution_count": 20,
   "id": "903be084",
   "metadata": {},
   "outputs": [
    {
     "name": "stdout",
     "output_type": "stream",
     "text": [
      "['Phillip', 'Ramya', datetime.datetime(2020, 3, 14, 0, 0), datetime.datetime(2020, 3, 25, 0, 0), 'Area1', 'Area6', 'Delivered', 198]\n",
      "['Phillip', 'John', datetime.datetime(2020, 6, 23, 0, 0), datetime.datetime(2020, 6, 25, 0, 0), 'Area1', 'Area4', 'Delivered', 314]\n"
     ]
    }
   ],
   "source": [
    "for i,j in Z.items():\n",
    "    if j[0]==\"Phillip\":\n",
    "        print(j)"
   ]
  },
  {
   "cell_type": "markdown",
   "id": "c8ede35f",
   "metadata": {},
   "source": [
    "# Q5. Print all shipment details that are received by Ramya"
   ]
  },
  {
   "cell_type": "code",
   "execution_count": 21,
   "id": "4484c25b",
   "metadata": {},
   "outputs": [
    {
     "name": "stdout",
     "output_type": "stream",
     "text": [
      "['Phillip', 'Ramya', datetime.datetime(2020, 3, 14, 0, 0), datetime.datetime(2020, 3, 25, 0, 0), 'Area1', 'Area6', 'Delivered', 198]\n",
      "['Omega III', 'Ramya', datetime.datetime(2020, 1, 12, 0, 0), None, 'Area5', 'Area1', 'In-Transit', 200]\n"
     ]
    }
   ],
   "source": [
    "for i,j in Z.items():\n",
    "    if j[1]==\"Ramya\":\n",
    "        print(j)"
   ]
  },
  {
   "cell_type": "markdown",
   "id": "8fe05240",
   "metadata": {},
   "source": [
    "# Q6. Print all shipments which are in 'In-Transit' status"
   ]
  },
  {
   "cell_type": "code",
   "execution_count": 22,
   "id": "dacc0738",
   "metadata": {},
   "outputs": [
    {
     "name": "stdout",
     "output_type": "stream",
     "text": [
      "[2, 3, datetime.datetime(2020, 1, 12, 0, 0), None, 'Area5', 'Area1', 'In-Transit', 200]\n",
      "[5, 2, datetime.datetime(2020, 6, 28, 0, 0), None, 'Area3', 'Area1', 'In-Transit', 270]\n"
     ]
    }
   ],
   "source": [
    "for i,j in CMS.items():\n",
    "    if j[6]==\"In-Transit\":\n",
    "        print(j)"
   ]
  },
  {
   "cell_type": "markdown",
   "id": "7f6495c1",
   "metadata": {},
   "source": [
    "# Q7. Print all shipments which are delivered within 7 days of courier Start date"
   ]
  },
  {
   "cell_type": "code",
   "execution_count": 23,
   "id": "5754b946",
   "metadata": {},
   "outputs": [
    {
     "name": "stdout",
     "output_type": "stream",
     "text": [
      "104 [1, 5, datetime.datetime(2020, 6, 23, 0, 0), datetime.datetime(2020, 6, 25, 0, 0), 'Area1', 'Area4', 'Delivered', 314]\n"
     ]
    }
   ],
   "source": [
    "for i,j in CMS.items():\n",
    "    if type(j[3]) == type(j[2]): #indexing is used\n",
    "        diff = j[3]-j[2]\n",
    "        if (diff.days <7): #nested if is used\n",
    "            print(i,j)"
   ]
  },
  {
   "cell_type": "markdown",
   "id": "4a3ac31a",
   "metadata": {},
   "source": [
    "# Q8. Print all shipments which are delivered after 15 days of courier start date or not yet been delivered."
   ]
  },
  {
   "cell_type": "code",
   "execution_count": 24,
   "id": "9736e7e1",
   "metadata": {},
   "outputs": [
    {
     "name": "stdout",
     "output_type": "stream",
     "text": [
      "102 [4, 1, datetime.datetime(2020, 6, 18, 0, 0), datetime.datetime(2020, 7, 9, 0, 0), 'Area2', 'Area4', 'Delivered', 275]\n"
     ]
    }
   ],
   "source": [
    "for i,j in CMS.items():\n",
    "    if type(j[3]) == type(j[2]): #indexing is used\n",
    "        diff = j[3]-j[2]\n",
    "        if (diff.days >15): #nested if is used\n",
    "            print(i,j)"
   ]
  },
  {
   "cell_type": "markdown",
   "id": "158e71b6",
   "metadata": {},
   "source": [
    "# Q 9. Write a function find_all_routes to display all possible routes from senders location to receivers location given in the dictionary for each shipment.¶"
   ]
  },
  {
   "cell_type": "code",
   "execution_count": 25,
   "id": "0b9e0db3",
   "metadata": {},
   "outputs": [
    {
     "name": "stdout",
     "output_type": "stream",
     "text": [
      "Shipment ID -  101\n",
      "Sender's Location -  1\n",
      "Receiver's Location -  6\n",
      "All Possible Routes - \n",
      "[1, 6]\n",
      "-----------------------------------\n",
      "Shipment ID -  102\n",
      "Sender's Location -  2\n",
      "Receiver's Location -  4\n",
      "All Possible Routes - \n",
      "[2, 3, 4]\n",
      "[2, 4]\n",
      "-----------------------------------\n",
      "Shipment ID -  103\n",
      "Sender's Location -  5\n",
      "Receiver's Location -  1\n",
      "All Possible Routes - \n",
      "[5, 4, 2, 1]\n",
      "[5, 4, 3, 2, 1]\n",
      "-----------------------------------\n",
      "Shipment ID -  104\n",
      "Sender's Location -  1\n",
      "Receiver's Location -  4\n",
      "All Possible Routes - \n",
      "[1, 2, 3, 4]\n",
      "[1, 2, 4]\n",
      "-----------------------------------\n",
      "Shipment ID -  105\n",
      "Sender's Location -  5\n",
      "Receiver's Location -  3\n",
      "All Possible Routes - \n",
      "[5, 4, 2, 3]\n",
      "[5, 4, 3]\n",
      "-----------------------------------\n",
      "Shipment ID -  106\n",
      "Sender's Location -  3\n",
      "Receiver's Location -  1\n",
      "All Possible Routes - \n",
      "[3, 2, 1]\n",
      "[3, 4, 2, 1]\n",
      "-----------------------------------\n"
     ]
    }
   ],
   "source": [
    "def find_all_routes(matrix,c,d,visited,path): #creating a user defined function find all routes\n",
    "    visited[c] = True\n",
    "    path.append(c+1)\n",
    "    if c == d:\n",
    "        print(path)\n",
    "    else:\n",
    "        \n",
    "        for i in range(6):   #initializing for loop\n",
    "            if matrix[c][i] == 1 and (visited[i] == False):\n",
    "                find_all_routes(matrix,i,d,visited,path)\n",
    "                \n",
    "    path.pop()  #dealing with dead ends\n",
    "    visited[c] = False\n",
    "matrix = [[0,1,0,0,0,1],[1,0,1,1,0,0],[0,1,0,1,0,0],[0,1,1,0,1,0],[0,0,0,1,0,0],[1,0,0,0,0,0]]  #nested list\n",
    "visited = [False for i in range(6)]\n",
    "path = []    #declaring a empty list path\n",
    "\n",
    "def Show_all(shipment_list):   #creating a user defined function all routes\n",
    "    for i in shipment_list:      #initializing for loop\n",
    "        print(\"Shipment ID - \",i)\n",
    "        s = int(shipment_list[i][4][-1])\n",
    "        print(\"Sender's Location - \",s)\n",
    "        r = int(shipment_list[i][5][-1])\n",
    "        print(\"Receiver's Location - \",r)\n",
    "        print(\"All Possible Routes - \")\n",
    "        find_all_routes(matrix,s-1,r-1,visited,path)\n",
    "        print(\"-----------------------------------\")\n",
    "        \n",
    "Show_all(CMS)"
   ]
  },
  {
   "cell_type": "code",
   "execution_count": null,
   "id": "f2cceab0",
   "metadata": {},
   "outputs": [],
   "source": []
  },
  {
   "cell_type": "code",
   "execution_count": null,
   "id": "1bddbca4",
   "metadata": {},
   "outputs": [],
   "source": []
  }
 ],
 "metadata": {
  "kernelspec": {
   "display_name": "Python 3 (ipykernel)",
   "language": "python",
   "name": "python3"
  },
  "language_info": {
   "codemirror_mode": {
    "name": "ipython",
    "version": 3
   },
   "file_extension": ".py",
   "mimetype": "text/x-python",
   "name": "python",
   "nbconvert_exporter": "python",
   "pygments_lexer": "ipython3",
   "version": "3.9.7"
  }
 },
 "nbformat": 4,
 "nbformat_minor": 5
}
